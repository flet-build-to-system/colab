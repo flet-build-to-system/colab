{
  "nbformat": 4,
  "nbformat_minor": 0,
  "metadata": {
    "colab": {
      "provenance": [],
      "authorship_tag": "ABX9TyOGmAoe1JoE3XL6kARguwg0",
      "include_colab_link": true
    },
    "kernelspec": {
      "name": "python3",
      "display_name": "Python 3"
    },
    "language_info": {
      "name": "python"
    }
  },
  "cells": [
    {
      "cell_type": "markdown",
      "metadata": {
        "id": "view-in-github",
        "colab_type": "text"
      },
      "source": [
        "<a href=\"https://colab.research.google.com/github/flet-build-to-system/colab/blob/main/Untitled2.ipynb\" target=\"_parent\"><img src=\"https://colab.research.google.com/assets/colab-badge.svg\" alt=\"Open In Colab\"/></a>"
      ]
    },
    {
      "cell_type": "code",
      "source": [
        "!curl -fsSL https://docs.grit.io/install | bash"
      ],
      "metadata": {
        "colab": {
          "base_uri": "https://localhost:8080/"
        },
        "id": "0V8j40SQI9HC",
        "outputId": "70c6cf71-02c5-4a51-e2b6-cb507bff8238"
      },
      "execution_count": 18,
      "outputs": [
        {
          "output_type": "stream",
          "name": "stdout",
          "text": [
            "downloading grit 0.1.0-alpha.1743007075 x86_64-unknown-linux-gnu\n",
            "installing to /root/.grit/bin\n",
            "  grit\n",
            "everything's installed!\n",
            "\n",
            "To add $HOME/.grit/bin to your PATH, either restart your shell or run:\n",
            "\n",
            "    source $HOME/.grit/bin/env (sh, bash, zsh)\n",
            "    source $HOME/.grit/bin/env.fish (fish)\n"
          ]
        }
      ]
    },
    {
      "cell_type": "code",
      "source": [
        "!/root/.grit/bin/grit install"
      ],
      "metadata": {
        "colab": {
          "base_uri": "https://localhost:8080/"
        },
        "id": "ui2_B3s2JIj-",
        "outputId": "bd885220-4107-4990-c411-64a309b04268"
      },
      "execution_count": 28,
      "outputs": [
        {
          "output_type": "stream",
          "name": "stdout",
          "text": [
            "Targeting /root/.grit as install directory\n",
            "grit already present, skipping\n",
            "gouda not present, skipping, run with --app gouda to install\n",
            "workflow-runner not present, skipping, run with --app workflow-runner to install\n"
          ]
        }
      ]
    }
  ]
}